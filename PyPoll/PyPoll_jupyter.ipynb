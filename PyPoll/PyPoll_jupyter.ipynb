{
 "cells": [
  {
   "cell_type": "code",
   "execution_count": 142,
   "metadata": {},
   "outputs": [
    {
     "name": "stdout",
     "output_type": "stream",
     "text": [
      "Election Results\n",
      "-------------------------\n",
      "Total Votes: 803000\n",
      "-------------------------\n",
      "Vestal  48.0%  385440\n",
      "Torres  44.0%  353320\n",
      "Seth     5.0%   40150\n",
      "Cordin   3.0%   24090\n",
      "-------------------------\n",
      "Winner: Vestal\n",
      "-------------------------\n"
     ]
    }
   ],
   "source": [
    "import pandas as pd\n",
    "import csv\n",
    "\n",
    "df = pd.read_csv(\"election_data_1.csv\")\n",
    "\n",
    "total_votes = sum(pd.value_counts(df['Voter ID']))\n",
    "\n",
    "winner = df['Candidate'].value_counts().idxmax()\n",
    "\n",
    "votes_count = df['Candidate'].value_counts()\n",
    "votes_percentage = (votes_count / total_votes * 100).astype(str) + '%'\n",
    "\n",
    "summary = pd.concat([votes_percentage, votes_count], axis = 1).to_string(header = False)\n",
    "\n",
    "# Print results\n",
    "print(\"Election Results\")\n",
    "print(\"-------------------------\")\n",
    "print(\"Total Votes: \" + str(total_votes))\n",
    "print(\"-------------------------\")\n",
    "print(summary)\n",
    "print(\"-------------------------\")\n",
    "print(\"Winner: \" + winner)\n",
    "print(\"-------------------------\")\n",
    "\n",
    "#Export data to text file\n",
    "election_results = {\n",
    "    'Total_Votes:': [total_votes],\n",
    "    'Summary:': [summary],\n",
    "    'Winner:': [winner]\n",
    "    }\n",
    "\n",
    "election_results = pd.DataFrame(data=election_results).T\n",
    "election_results.to_csv(\"election_results.txt\", sep = ' ' ,header = False)"
   ]
  },
  {
   "cell_type": "code",
   "execution_count": null,
   "metadata": {},
   "outputs": [],
   "source": []
  },
  {
   "cell_type": "code",
   "execution_count": null,
   "metadata": {},
   "outputs": [],
   "source": []
  },
  {
   "cell_type": "code",
   "execution_count": null,
   "metadata": {
    "collapsed": true
   },
   "outputs": [],
   "source": []
  }
 ],
 "metadata": {
  "kernelspec": {
   "display_name": "Python [conda env:PythonData]",
   "language": "python",
   "name": "conda-env-PythonData-py"
  },
  "language_info": {
   "codemirror_mode": {
    "name": "ipython",
    "version": 3
   },
   "file_extension": ".py",
   "mimetype": "text/x-python",
   "name": "python",
   "nbconvert_exporter": "python",
   "pygments_lexer": "ipython3",
   "version": "3.6.1"
  }
 },
 "nbformat": 4,
 "nbformat_minor": 2
}
