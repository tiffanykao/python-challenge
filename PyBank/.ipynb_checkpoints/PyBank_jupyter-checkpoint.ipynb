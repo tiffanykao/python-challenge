{
 "cells": [
  {
   "cell_type": "code",
   "execution_count": 253,
   "metadata": {},
   "outputs": [
    {
     "name": "stdout",
     "output_type": "stream",
     "text": [
      "Financial Analysis\n",
      "------------------------------------------------\n",
      "Total months: 86\n",
      "Total revenue: $36973911\n",
      "Average revenue change: $-5955\n",
      "Greatest increase in revenue: Jul-2014 ($1645140)\n",
      "Greatest decrease in revenue: Jun-2014 ($-1947745)\n"
     ]
    }
   ],
   "source": [
    "# The total number of months included in the dataset \n",
    "# The total amount of revenue gained over the entire period\n",
    "# The average change in revenue between months over the entire period\n",
    "# The greatest increase in revenue (date and amount) over the entire period\n",
    "# The greatest decrease in revenue (date and amount) over the entire period\n",
    "\n",
    "# Print results \n",
    "# Export into CSV\n",
    "\n",
    "import pandas as pd\n",
    "\n",
    "\n",
    "df = pd.read_csv(\"budget_data_2.csv\")\n",
    "df['MoM'] = df['Revenue'] - df['Revenue'].shift(+1)\n",
    "\n",
    "total_months = sum(pd.value_counts(df['Date']))\n",
    "total_revenue = '${:.0f}'.format(df['Revenue'].sum())\n",
    "average_revenue_change = '${:.0f}'.format(df['MoM'].mean())\n",
    "greatest_revenue_increase = '${:.0f}'.format(df['MoM'].max())\n",
    "greatest_revenue_decrease = '${:.0f}'.format(df['MoM'].min())\n",
    "\n",
    "greatest_revenue_increase_month = df[['Date']][df.MoM == df.MoM.max()].to_string(header = False, index = False)\n",
    "greatest_revenue_decrease_month = df[['Date']][df.MoM == df.MoM.min()].to_string(header = False, index = False)\n",
    "\n",
    "print(\"Financial Analysis\")\n",
    "print(\"------------------------------------------------\")\n",
    "print(\"Total months: \" + str(total_months))\n",
    "print(\"Total revenue: \" + str(total_revenue))\n",
    "print(\"Average revenue change: \" + str(average_revenue_change))\n",
    "print(\"Greatest increase in revenue: \" + greatest_revenue_increase_month + \" (\" + str(greatest_revenue_increase) + \")\")\n",
    "print(\"Greatest decrease in revenue: \" + greatest_revenue_decrease_month + \" (\" + str(greatest_revenue_decrease) + \")\")\n",
    "\n",
    "df_analysis = {\n",
    "    \"Total months\": [total_months, \"\"], \n",
    "    \"Total revenue\": [total_revenue, \"\"], \n",
    "    \"Average revenue change\": [average_revenue_change, \"\"],\n",
    "    \"Greatest increase in revenue\": [greatest_revenue_increase_month, greatest_revenue_increase],\n",
    "    \"Greatest decrease in revenue\": [greatest_revenue_decrease_month, greatest_revenue_decrease]\n",
    "    }\n",
    "\n",
    "df_analysis = pd.DataFrame(data=df_analysis).T\n",
    "df_analysis.to_csv(\"analysis.csv\", header = False)"
   ]
  },
  {
   "cell_type": "code",
   "execution_count": null,
   "metadata": {
    "scrolled": true
   },
   "outputs": [],
   "source": []
  },
  {
   "cell_type": "code",
   "execution_count": null,
   "metadata": {
    "scrolled": true
   },
   "outputs": [],
   "source": []
  },
  {
   "cell_type": "code",
   "execution_count": null,
   "metadata": {
    "collapsed": true
   },
   "outputs": [],
   "source": []
  }
 ],
 "metadata": {
  "kernelspec": {
   "display_name": "Python [conda env:PythonData]",
   "language": "python",
   "name": "conda-env-PythonData-py"
  },
  "language_info": {
   "codemirror_mode": {
    "name": "ipython",
    "version": 3
   },
   "file_extension": ".py",
   "mimetype": "text/x-python",
   "name": "python",
   "nbconvert_exporter": "python",
   "pygments_lexer": "ipython3",
   "version": "3.6.1"
  }
 },
 "nbformat": 4,
 "nbformat_minor": 2
}
